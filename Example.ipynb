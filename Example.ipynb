{
 "cells": [
  {
   "cell_type": "markdown",
   "metadata": {},
   "source": [
    "# webSpyder\n",
    "A little class for making the spyder job easier, it's in a really early point of development but it should work"
   ]
  },
  {
   "cell_type": "markdown",
   "metadata": {},
   "source": [
    "# An example:\n",
    "A spyder that search wikipedia for page about food"
   ]
  },
  {
   "cell_type": "markdown",
   "metadata": {},
   "source": [
    "Import the package"
   ]
  },
  {
   "cell_type": "code",
   "execution_count": 1,
   "metadata": {
    "ExecuteTime": {
     "end_time": "2018-02-27T15:40:09.034510Z",
     "start_time": "2018-02-27T15:40:06.471551Z"
    },
    "collapsed": true
   },
   "outputs": [],
   "source": [
    "import webSpyder"
   ]
  },
  {
   "cell_type": "markdown",
   "metadata": {},
   "source": [
    "Create an istance of the spyder"
   ]
  },
  {
   "cell_type": "code",
   "execution_count": 2,
   "metadata": {
    "ExecuteTime": {
     "end_time": "2018-02-27T15:40:09.050023Z",
     "start_time": "2018-02-27T15:40:09.036513Z"
    },
    "collapsed": true
   },
   "outputs": [],
   "source": [
    "s = webSpyder.Spyder(\"wikipediaSpyder\")"
   ]
  },
  {
   "cell_type": "markdown",
   "metadata": {},
   "source": [
    "Add the url of the page from which the spyder will start"
   ]
  },
  {
   "cell_type": "code",
   "execution_count": 3,
   "metadata": {
    "ExecuteTime": {
     "end_time": "2018-02-27T15:40:09.075041Z",
     "start_time": "2018-02-27T15:40:09.056529Z"
    },
    "collapsed": true
   },
   "outputs": [],
   "source": [
    "s.set_start_url(\"https://it.wikipedia.org/wiki/Pagina_principale\")"
   ]
  },
  {
   "cell_type": "markdown",
   "metadata": {},
   "source": [
    "Create your custom function which decide if the current url have to be parsed or not.\n",
    "\n",
    "You can add as many function as you wish.\n",
    "\n",
    "The Spyder take the and of all the filter functions, so all of them have to return True so that the url is parsed."
   ]
  },
  {
   "cell_type": "code",
   "execution_count": 4,
   "metadata": {
    "ExecuteTime": {
     "end_time": "2018-02-27T15:40:09.094054Z",
     "start_time": "2018-02-27T15:40:09.084047Z"
    },
    "collapsed": true
   },
   "outputs": [],
   "source": [
    "def my_filter(url):\n",
    "    return \"wikipedia\" in url"
   ]
  },
  {
   "cell_type": "code",
   "execution_count": 5,
   "metadata": {
    "ExecuteTime": {
     "end_time": "2018-02-27T15:40:09.116069Z",
     "start_time": "2018-02-27T15:40:09.098562Z"
    },
    "collapsed": true
   },
   "outputs": [],
   "source": [
    "s.set_filter(my_filter)"
   ]
  },
  {
   "cell_type": "markdown",
   "metadata": {},
   "source": [
    "Create your custom function which recive the soup (bs4 parse html) and the url of the current page.\n",
    "\n",
    "You can add as many function as you wish.\n",
    "\n",
    "Each function is called on every page the spyder decide to download and parse."
   ]
  },
  {
   "cell_type": "code",
   "execution_count": 6,
   "metadata": {
    "ExecuteTime": {
     "end_time": "2018-02-27T15:40:09.132582Z",
     "start_time": "2018-02-27T15:40:09.119072Z"
    },
    "collapsed": true
   },
   "outputs": [],
   "source": [
    "def test_function(soup,url):\n",
    "    print(\"hi the url is %s\"%url)"
   ]
  },
  {
   "cell_type": "code",
   "execution_count": 7,
   "metadata": {
    "ExecuteTime": {
     "end_time": "2018-02-27T15:40:09.175613Z",
     "start_time": "2018-02-27T15:40:09.140088Z"
    },
    "collapsed": true
   },
   "outputs": [],
   "source": [
    "s.set_function(test_function)"
   ]
  },
  {
   "cell_type": "code",
   "execution_count": 8,
   "metadata": {
    "collapsed": true
   },
   "outputs": [],
   "source": [
    "s.enable_cache()\n",
    "s.disable_permessive_exception()"
   ]
  },
  {
   "cell_type": "markdown",
   "metadata": {
    "ExecuteTime": {
     "end_time": "2018-02-27T15:20:13.928604Z",
     "start_time": "2018-02-27T15:20:13.923599Z"
    }
   },
   "source": [
    "The current state of the spyder is printable"
   ]
  },
  {
   "cell_type": "code",
   "execution_count": 9,
   "metadata": {
    "ExecuteTime": {
     "end_time": "2018-02-27T15:40:09.203131Z",
     "start_time": "2018-02-27T15:40:09.180615Z"
    }
   },
   "outputs": [
    {
     "name": "stdout",
     "output_type": "stream",
     "text": [
      "Current Status:\n",
      "settings:\n",
      "{\n",
      "    \"data_type\": \"list\",\n",
      "    \"mode\": \"wget\",\n",
      "    \"permessive_exception\": false,\n",
      "    \"start_url\": \"https://it.wikipedia.org/wiki/Pagina_principale\",\n",
      "    \"project\": \"wikipediaSpyder\",\n",
      "    \"clear_html\": false,\n",
      "    \"clear_comments\": true,\n",
      "    \"useless_tags\": [\n",
      "        \"svg\",\n",
      "        \"input\",\n",
      "        \"noscript\",\n",
      "        \"link\",\n",
      "        \"script\",\n",
      "        \"style\",\n",
      "        \"iframe\",\n",
      "        \"canvas\"\n",
      "    ],\n",
      "    \"useless_attributes\": [\n",
      "        \"style\",\n",
      "        \"href\",\n",
      "        \"role\",\n",
      "        \"src\",\n",
      "        \"target\",\n",
      "        \"type\",\n",
      "        \"lang\",\n",
      "        \"async\",\n",
      "        \"crossorigin\"\n",
      "    ],\n",
      "    \"skip_estensions\": true,\n",
      "    \"not_skip_estensions_list\": [\n",
      "        \"html\",\n",
      "        \"htm\",\n",
      "        \"php\",\n",
      "        \"aspx\",\n",
      "        \"asp\",\n",
      "        \"axd\",\n",
      "        \"asx\",\n",
      "        \"asmx\",\n",
      "        \"ashx\",\n",
      "        \"cfm\",\n",
      "        \"xml\",\n",
      "        \"rss\",\n",
      "        \"cgi\",\n",
      "        \"jsp\",\n",
      "        \"jspx\"\n",
      "    ],\n",
      "    \"cache\": true,\n",
      "    \"cache_path\": \"/home/zommiommy/Desktop/webSpyder/pagecaches/\",\n",
      "    \"log\": true,\n",
      "    \"log_path\": \"/home/zommiommy/Desktop/webSpyder/log/\",\n",
      "    \"log_format\": \"%(asctime)s - %(name)s - %(levelname)s - %(message)s\"\n",
      "}\n",
      "urls:\n",
      "['https://it.wikipedia.org/wiki/Pagina_principale']\n"
     ]
    }
   ],
   "source": [
    "print(s)"
   ]
  },
  {
   "cell_type": "markdown",
   "metadata": {},
   "source": [
    "if there aren't already there create the folder for the logs and the caches"
   ]
  },
  {
   "cell_type": "code",
   "execution_count": 10,
   "metadata": {
    "collapsed": true
   },
   "outputs": [],
   "source": [
    "s.create_needed_folders()"
   ]
  },
  {
   "cell_type": "markdown",
   "metadata": {},
   "source": [
    "It can do a single url at time."
   ]
  },
  {
   "cell_type": "code",
   "execution_count": null,
   "metadata": {
    "ExecuteTime": {
     "end_time": "2018-02-27T15:40:09.237656Z",
     "start_time": "2018-02-27T15:40:09.211138Z"
    }
   },
   "outputs": [
    {
     "name": "stdout",
     "output_type": "stream",
     "text": [
      "hi the url is https://it.wikipedia.org/wiki/Pagina_principale\n"
     ]
    },
    {
     "data": {
      "text/plain": [
       "True"
      ]
     },
     "execution_count": 11,
     "metadata": {},
     "output_type": "execute_result"
    }
   ],
   "source": [
    "s.iteration()"
   ]
  },
  {
   "cell_type": "markdown",
   "metadata": {},
   "source": [
    "Or it can do a n of iteration or if it not passed any value it will go on parsing urls that it find in the pages until there aren't anyone left"
   ]
  },
  {
   "cell_type": "code",
   "execution_count": null,
   "metadata": {
    "ExecuteTime": {
     "end_time": "2018-02-27T15:40:09.285190Z",
     "start_time": "2018-02-27T15:40:09.242660Z"
    }
   },
   "outputs": [
    {
     "name": "stdout",
     "output_type": "stream",
     "text": [
      "hi the url is https://it.wikipedia.org/wiki/Pagina_principale#mw-head\n",
      "hi the url is https://it.wikipedia.org/wiki/Pagina_principale#p-search\n",
      "hi the url is https://it.wikipedia.org/wiki/Aiuto:Benvenuto\n",
      "hi the url is https://it.wikipedia.org/wiki/Wikipedia\n",
      "hi the url is https://it.wikipedia.org/wiki/Aiuto:Cosa_vuol_dire_%22libera%22%3F\n",
      "hi the url is https://it.wikipedia.org/wiki/Wikipedia:Aiuta_Wikipedia\n",
      "hi the url is https://it.wikipedia.org/wiki/Speciale:Statistiche\n",
      "hi the url is https://it.wikipedia.org/wiki/Aiuto:Voce\n",
      "hi the url is https://it.wikipedia.org/wiki/Lingua_italiana\n",
      "hi the url is https://it.m.wikipedia.org\n",
      "hi the url is https://it.wikipedia.org/wiki/Speciale:TutteLePagine\n",
      "hi the url is https://it.wikipedia.org/wiki/Wikipedia:Sommario\n",
      "hi the url is https://it.wikipedia.org/wiki/Portale:Portali\n",
      "hi the url is https://it.wikipedia.org/wiki/File:Le_Monde_Illustre_1864_-_Torino_22_settembre.jpg\n",
      "hi the url is https://it.wikipedia.org/wiki/1864\n",
      "hi the url is https://it.wikipedia.org/wiki/Strage\n",
      "hi the url is https://it.wikipedia.org/wiki/Regio_Esercito\n",
      "hi the url is https://it.wikipedia.org/wiki/Arma_dei_Carabinieri\n",
      "hi the url is https://it.wikipedia.org/wiki/21_settembre\n",
      "hi the url is https://it.wikipedia.org/wiki/22_settembre\n"
     ]
    }
   ],
   "source": [
    "s.run(100)\n",
    "# or s.run() to go on indefinitivly"
   ]
  },
  {
   "cell_type": "markdown",
   "metadata": {},
   "source": [
    "It can be stopped throwing a KeyboardInerrupt pressing Ctrl-C"
   ]
  },
  {
   "cell_type": "markdown",
   "metadata": {},
   "source": [
    "# Complete code"
   ]
  },
  {
   "cell_type": "code",
   "execution_count": null,
   "metadata": {
    "ExecuteTime": {
     "end_time": "2018-02-27T15:40:09.332722Z",
     "start_time": "2018-02-27T15:40:09.297698Z"
    },
    "collapsed": true
   },
   "outputs": [],
   "source": [
    "import webSpyder\n",
    "\n",
    "s = webSpyder.Spyder(\"wikipediaSpyder\")\n",
    "\n",
    "s.set_start_url(\"https://it.wikipedia.org/\")\n",
    "\n",
    "def my_filter(url):\n",
    "    return \"wikipedia\" in url\n",
    "s.set_filter(my_filter)\n",
    "\n",
    "def test_function(soup,url):\n",
    "    print(\"hi the url is %s\\nand the html is %s\"%(url,soup))\n",
    "s.set_function(test_function)\n",
    "\n",
    "s.create_needed_folders()\n",
    "\n",
    "s.run(10)"
   ]
  },
  {
   "cell_type": "markdown",
   "metadata": {},
   "source": [
    "# Settings"
   ]
  },
  {
   "cell_type": "markdown",
   "metadata": {},
   "source": [
    "* `mode`: choose the wey the page will be downloaded, the default way is by wget with the value \"wget\". For now there is only wget but in the future it will support [\"wget\",\"urllib\",\"selenium\",\"requests\"] librarys.\n",
    "* `permessive_exception`: if permessive_exception is True then if there is an exception in the parsing of the page the spyder will just ignore that page. Else if it is false the spyder will throw the exception.\n",
    "* `start_url`: is the url from which the spyder will start\n",
    "* `project`: name of the spyder, it's the name of the default logfile and it can be usefull in mulithreading situations."
   ]
  },
  {
   "cell_type": "markdown",
   "metadata": {},
   "source": [
    "### Logs"
   ]
  },
  {
   "cell_type": "markdown",
   "metadata": {},
   "source": [
    "*  `enable_log()`: enable the logging\n",
    "*  `disable_log()`: disable the logging\n",
    "*  `set_log_path(path)`: sets the absolute path of the log file ex. \"C:\\log.log\"\n",
    "*  `set_log_format(\"format\")`: sets the format of the log (same syntax of the logging module format)"
   ]
  },
  {
   "cell_type": "markdown",
   "metadata": {},
   "source": [
    "## Cache"
   ]
  },
  {
   "cell_type": "markdown",
   "metadata": {},
   "source": [
    "*  `enable_cache()`: enable the caching of the pages\n",
    "*  `disable_cache()`: disable the caching of the pages\n",
    "*  `set_cache_path(path)`: set the absolute path to the folder where the pages files will be cached"
   ]
  },
  {
   "cell_type": "markdown",
   "metadata": {},
   "source": [
    "## HTML Clean functions"
   ]
  },
  {
   "cell_type": "markdown",
   "metadata": {},
   "source": [
    "Function to eliminate unwanted part of the html like comments or script tags\n",
    "\n",
    "Clear html is the main switch , it enable or disable all the other functions\n",
    "*  `enable_clear_html()`: enable the clear html function\n",
    "*  `disable_clear_html()`: disable the clear html function\n",
    "*  `enable_clear_comments()`: the spyder will delete the comments from the html\n",
    "*  `disable_clear_comments()`:  the spyder will NOT delete the comments from the html\n",
    "*  `set_useless_attributes(attributes_list)`:  set the list of attributes that will be eliminated (if there are any) from the html in every tags. ex. set_useless_attributes([\"style\",\"id\"]) will eliminate every style or id attribute from the tags.\n",
    "*  `set_useless_tags(tags_list)`: set the list of tags that will be eliminated (if there are any) from the html. ex.set_useless_tags([\"img\",\"p\"]) will eliminate every img and p tag from the html."
   ]
  },
  {
   "cell_type": "markdown",
   "metadata": {
    "ExecuteTime": {
     "end_time": "2018-02-27T16:15:26.372442Z",
     "start_time": "2018-02-27T16:15:26.368941Z"
    },
    "collapsed": true
   },
   "source": [
    "## Search Algorithm"
   ]
  },
  {
   "cell_type": "markdown",
   "metadata": {},
   "source": [
    "The search work somewhat like disktra's algorithm where instead of having the cost on the edges of the graph it has them it on the nodes and it get the minimum spanning tree of the page link's graph."
   ]
  },
  {
   "cell_type": "markdown",
   "metadata": {},
   "source": [
    "* `set_cost_function(f)` the function f(soup,url) has to return the cost of the page which is a real non negative number"
   ]
  },
  {
   "cell_type": "markdown",
   "metadata": {},
   "source": [
    "The default cost function return always 1 so that the spyder will do a width first search.\n",
    "The more the max cost is bigger then the min cost, decided by the function, the more the algorithm will tend to do a depth first search."
   ]
  },
  {
   "cell_type": "code",
   "execution_count": null,
   "metadata": {
    "collapsed": true
   },
   "outputs": [],
   "source": []
  }
 ],
 "metadata": {
  "hide_input": false,
  "kernelspec": {
   "display_name": "Python 3",
   "language": "python",
   "name": "python3"
  },
  "language_info": {
   "codemirror_mode": {
    "name": "ipython",
    "version": 3
   },
   "file_extension": ".py",
   "mimetype": "text/x-python",
   "name": "python",
   "nbconvert_exporter": "python",
   "pygments_lexer": "ipython3",
   "version": "3.6.3"
  },
  "varInspector": {
   "cols": {
    "lenName": 16,
    "lenType": 16,
    "lenVar": 40
   },
   "kernels_config": {
    "python": {
     "delete_cmd_postfix": "",
     "delete_cmd_prefix": "del ",
     "library": "var_list.py",
     "varRefreshCmd": "print(var_dic_list())"
    },
    "r": {
     "delete_cmd_postfix": ") ",
     "delete_cmd_prefix": "rm(",
     "library": "var_list.r",
     "varRefreshCmd": "cat(var_dic_list()) "
    }
   },
   "types_to_exclude": [
    "module",
    "function",
    "builtin_function_or_method",
    "instance",
    "_Feature"
   ],
   "window_display": false
  }
 },
 "nbformat": 4,
 "nbformat_minor": 2
}
